{
 "cells": [
  {
   "cell_type": "markdown",
   "metadata": {},
   "source": [
    "## Project Submission\n",
    "\n",
    "When you are ready to submit your project, meaning you have checked the [rubric](https://review.udacity.com/#!/rubrics/1428/view) and made sure that you have completed all tasks and answered all questions. Then you are ready to compress your files and submit your solution!\n",
    "\n",
    "The following steps assume:\n",
    "1. All cells have been *run* in Notebook 3 (and that progress has been saved).\n",
    "2. All questions in Notebook 3 have been answered.\n",
    "3. Your robot `sense` function in `robot_class.py` is complete.\n",
    "\n",
    "Please make sure all your work is saved before moving on. You do not need to change any code in the following cells; this code is to help you submit your project, only.\n",
    "\n",
    "---\n",
    "\n",
    "The first thing we'll do, is convert your notebooks into `.html` files; these files will save the output of each cell and any code/text that you have modified and saved in those notebooks. Note that the second notebook is not included because its completion does not affect whether you pass this project."
   ]
  },
  {
   "cell_type": "code",
   "execution_count": 1,
   "metadata": {},
   "outputs": [
    {
     "name": "stdout",
     "output_type": "stream",
     "text": [
      "[NbConvertApp] Converting notebook 1. Robot Moving and Sensing.ipynb to html\n",
      "[NbConvertApp] Writing 330559 bytes to 1. Robot Moving and Sensing.html\n",
      "[NbConvertApp] Converting notebook 3. Landmark Detection and Tracking.ipynb to html\n",
      "[NbConvertApp] Writing 424205 bytes to 3. Landmark Detection and Tracking.html\n"
     ]
    }
   ],
   "source": [
    "!jupyter nbconvert \"1. Robot Moving and Sensing.ipynb\"\n",
    "!jupyter nbconvert \"3. Landmark Detection and Tracking.ipynb\""
   ]
  },
  {
   "cell_type": "markdown",
   "metadata": {},
   "source": [
    "### Zip the project files\n",
    "\n",
    "Next, we'll zip these notebook files and your `robot_class.py` file into one compressed archive named `project3.zip`.\n",
    "\n",
    "After completing this step you should see this zip file appear in your home directory, where you can download it as seen in the image below, by selecting it from the list and clicking **Download**.\n",
    "\n",
    "<img src='images/download_ex.png' width=50% height=50%/>\n"
   ]
  },
  {
   "cell_type": "code",
   "execution_count": 3,
   "metadata": {},
   "outputs": [
    {
     "name": "stdout",
     "output_type": "stream",
     "text": [
      "updating: 1. Robot Moving and Sensing.html (deflated 80%)\n",
      "updating: 3. Landmark Detection and Tracking.html (deflated 78%)\n",
      "updating: robot_class.py (deflated 68%)\n",
      "  adding: 3. Landmark Detection and Tracking-zh.ipynb (deflated 65%)\n",
      "  adding: 1. Robot Moving and Sensing-zh.ipynb (deflated 65%)\n",
      "  adding: 2. Omega and Xi, Constraints.ipynb (deflated 61%)\n",
      "  adding: .ipynb_checkpoints/ (stored 0%)\n",
      "  adding: .ipynb_checkpoints/1. Robot Moving and Sensing-zh-checkpoint.ipynb (deflated 65%)\n",
      "  adding: .ipynb_checkpoints/4_Zip Your Project Files and Submit-zh-checkpoint.ipynb (deflated 49%)\n",
      "  adding: .ipynb_checkpoints/1. Robot Moving and Sensing-checkpoint.ipynb (deflated 71%)\n",
      "  adding: .ipynb_checkpoints/2. Omega and Xi, Constraints-zh-checkpoint.ipynb (deflated 53%)\n",
      "  adding: .ipynb_checkpoints/2. Omega and Xi, Constraints-checkpoint.ipynb (deflated 61%)\n",
      "  adding: .ipynb_checkpoints/3. Landmark Detection and Tracking-checkpoint.ipynb (deflated 56%)\n",
      "  adding: .ipynb_checkpoints/3. Landmark Detection and Tracking-zh-checkpoint.ipynb (deflated 65%)\n",
      "  adding: .ipynb_checkpoints/4. Zip Your Project Files and Submit-checkpoint.ipynb (deflated 59%)\n",
      "  adding: images/ (stored 0%)\n",
      "  adding: images/initial_constraints.png (deflated 47%)\n",
      "  adding: images/omega_xi_constraints.png (deflated 13%)\n",
      "  adding: images/constraints2D.png (deflated 56%)\n",
      "  adding: images/solution.png (deflated 11%)\n",
      "  adding: images/motion_constraint.png (deflated 30%)\n",
      "  adding: images/robot_world.png (deflated 15%)\n",
      "  adding: images/omega_xi.png (deflated 27%)\n",
      "  adding: images/download_ex.png (deflated 11%)\n",
      "  adding: filelist.txt (deflated 15%)\n",
      "  adding: 1. Robot Moving and Sensing.ipynb (deflated 53%)\n",
      "  adding: 4. Zip Your Project Files and Submit.ipynb (deflated 63%)\n",
      "  adding: helpers.py (deflated 63%)\n",
      "  adding: 4_Zip Your Project Files and Submit-zh.ipynb (deflated 49%)\n",
      "  adding: 2. Omega and Xi, Constraints-zh.ipynb (deflated 53%)\n",
      "  adding: __pycache__/ (stored 0%)\n",
      "  adding: __pycache__/robot_class.cpython-36.pyc (deflated 49%)\n",
      "  adding: __pycache__/helpers.cpython-36.pyc (deflated 41%)\n",
      "  adding: 3. Landmark Detection and Tracking.ipynb (deflated 56%)\n"
     ]
    }
   ],
   "source": [
    "!!apt-get -y update && apt-get install -y zip\n",
    "!zip project3.zip -r . *"
   ]
  },
  {
   "cell_type": "markdown",
   "metadata": {},
   "source": [
    "### Submit Your Project\n",
    "\n",
    "After creating and downloading your zip file, click on the `Submit` button and follow the instructions for submitting your `project3.zip` file. Congratulations on completing this project and I hope you enjoyed it!"
   ]
  }
 ],
 "metadata": {
  "kernelspec": {
   "display_name": "Python 3",
   "language": "python",
   "name": "python3"
  },
  "language_info": {
   "codemirror_mode": {
    "name": "ipython",
    "version": 3
   },
   "file_extension": ".py",
   "mimetype": "text/x-python",
   "name": "python",
   "nbconvert_exporter": "python",
   "pygments_lexer": "ipython3",
   "version": "3.6.3"
  }
 },
 "nbformat": 4,
 "nbformat_minor": 2
}
